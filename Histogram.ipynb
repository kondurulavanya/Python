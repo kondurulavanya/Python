{
 "cells": [
  {
   "cell_type": "markdown",
   "metadata": {},
   "source": [
    "# Build a function to create a histogram"
   ]
  },
  {
   "cell_type": "code",
   "execution_count": 44,
   "metadata": {},
   "outputs": [],
   "source": [
    "import pandas as pd\n",
    "import matplotlib.pyplot as plt"
   ]
  },
  {
   "cell_type": "code",
   "execution_count": 63,
   "metadata": {},
   "outputs": [],
   "source": [
    "df=pd.DataFrame([1,1,2,2,2,2,3,3,4,4,5,6,7,7,7,8,8,8,8,8,8,9,9,9,9,9,9,9,10,10,10,11,11,11,11,11,11,11])\n",
    "df.columns=['numbers']"
   ]
  },
  {
   "cell_type": "code",
   "execution_count": 138,
   "metadata": {},
   "outputs": [
    {
     "name": "stdout",
     "output_type": "stream",
     "text": [
      "Minimum value:1 and maximum value:11\n",
      "Enter no. of bins:5\n",
      "Binning ranges:\n",
      "[3.0, 5.0, 7.0, 9.0, 11.0]\n"
     ]
    },
    {
     "data": {
      "image/png": "[encoded data removed]",
      "text/plain": [
       "<Figure size 432x288 with 1 Axes>"
      ]
     },
     "metadata": {
      "needs_background": "light"
     },
     "output_type": "display_data"
    }
   ],
   "source": [
    "def manual_hist():\n",
    "    #minimum and max value\n",
    "    minvalue=int(df.min())\n",
    "    maxvalue=int(df.max())\n",
    "    print(\"Minimum value:\"+str(minvalue)+\" and maximum value:\"+str(maxvalue))\n",
    "    \n",
    "    #calculating binning ranges\n",
    "    binrange=(maxvalue-minvalue)/int(input(\"Enter no. of bins:\"))\n",
    "    binvalue=[minvalue]\n",
    "    while minvalue<=maxvalue:\n",
    "        minvalue+=binrange\n",
    "        if int(minvalue)<=maxvalue:\n",
    "            binvalue.append(minvalue)\n",
    "    print(\"Binning ranges:\")\n",
    "    print(binvalue[1:])\n",
    "    \n",
    "    #Plot Histogram\n",
    "    plt.hist(df['numbers'],bins=binvalue,color='blue')\n",
    "    plt.title('Histogram of numbers')\n",
    "    plt.xlabel('Numbers range')\n",
    "    plt.ylabel('Frequency')\n",
    "    plt.xticks(fontsize=12)\n",
    "    plt.yticks(fontsize=12)\n",
    "    plt.show()\n",
    "\n",
    "manual_hist()"
   ]
  },
  {
   "cell_type": "code",
   "execution_count": null,
   "metadata": {},
   "outputs": [],
   "source": []
  }
 ],
 "metadata": {
  "kernelspec": {
   "display_name": "Python 3",
   "language": "python",
   "name": "python3"
  },
  "language_info": {
   "codemirror_mode": {
    "name": "ipython",
    "version": 3
   },
   "file_extension": ".py",
   "mimetype": "text/x-python",
   "name": "python",
   "nbconvert_exporter": "python",
   "pygments_lexer": "ipython3",
   "version": "3.7.3"
  }
 },
 "nbformat": 4,
 "nbformat_minor": 2
}
