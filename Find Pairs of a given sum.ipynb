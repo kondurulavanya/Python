{
 "cells": [
  {
   "cell_type": "code",
   "execution_count": 4,
   "metadata": {},
   "outputs": [
    {
     "name": "stdout",
     "output_type": "stream",
     "text": [
      "enter num:8\n",
      "[(1, 7), (2, 6), (5, 3)]\n"
     ]
    }
   ],
   "source": [
    "#The below code gives the pairs of the given number/sum \n",
    "#The input list if predefined\n",
    "\n",
    "def findPairs(K):\n",
    "    lst = [1, 2, 5, 3, 4, 6, 7, 8, 9] \n",
    "    res = [] \n",
    "    while lst: \n",
    "        num = lst.pop() \n",
    "        diff = K - num \n",
    "        if diff in lst: \n",
    "            res.append((diff, num)) \n",
    "    return res \n",
    "      \n",
    "\n",
    "print(findPairs(int(input(\"enter num:\")))) "
   ]
  },
  {
   "cell_type": "code",
   "execution_count": 5,
   "metadata": {},
   "outputs": [
    {
     "name": "stdout",
     "output_type": "stream",
     "text": [
      "enter num:8\n",
      "[(1, 7), (2, 6), (5, 3)]\n"
     ]
    }
   ],
   "source": [
    "#Another way to get the pairs is using itertools-combination\n",
    "from itertools import combinations \n",
    "  \n",
    "def findPairs1(K):\n",
    "    lst1 = [1, 2, 5, 3, 4, 6, 7, 8, 9] \n",
    "    res = [] \n",
    "    for var in combinations(lst1, 2): \n",
    "        if var[0] + var[1] == K: \n",
    "            res.append((var[0], var[1])) \n",
    "          \n",
    "    return res \n",
    "      \n",
    "print(findPairs1(int(input(\"enter num:\")))) "
   ]
  },
  {
   "cell_type": "code",
   "execution_count": null,
   "metadata": {},
   "outputs": [],
   "source": []
  }
 ],
 "metadata": {
  "kernelspec": {
   "display_name": "Python 3",
   "language": "python",
   "name": "python3"
  },
  "language_info": {
   "codemirror_mode": {
    "name": "ipython",
    "version": 3
   },
   "file_extension": ".py",
   "mimetype": "text/x-python",
   "name": "python",
   "nbconvert_exporter": "python",
   "pygments_lexer": "ipython3",
   "version": "3.7.3"
  }
 },
 "nbformat": 4,
 "nbformat_minor": 2
}
