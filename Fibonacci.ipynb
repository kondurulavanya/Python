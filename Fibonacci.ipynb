{
 "cells": [
  {
   "cell_type": "code",
   "execution_count": 1,
   "metadata": {},
   "outputs": [
    {
     "name": "stdout",
     "output_type": "stream",
     "text": [
      "Local x, Local y\n",
      "Global x\n"
     ]
    }
   ],
   "source": [
    "\n",
    "x = 'Global x'\n",
    "\n",
    "def test():\n",
    "    #global x\n",
    "    y = 'Local y'\n",
    "    x = 'Local x'\n",
    "    print(x +', '+ y) #prints 'Local x' and  'Local y'\n",
    "\n",
    "if __name__ == '__main__':\n",
    "    test()\n",
    "    print(x) #prints 'Global x'"
   ]
  },
  {
   "cell_type": "code",
   "execution_count": null,
   "metadata": {},
   "outputs": [],
   "source": []
  }
 ],
 "metadata": {
  "kernelspec": {
   "display_name": "Python 3",
   "language": "python",
   "name": "python3"
  },
  "language_info": {
   "codemirror_mode": {
    "name": "ipython",
    "version": 3
   },
   "file_extension": ".py",
   "mimetype": "text/x-python",
   "name": "python",
   "nbconvert_exporter": "python",
   "pygments_lexer": "ipython3",
   "version": "3.7.3"
  }
 },
 "nbformat": 4,
 "nbformat_minor": 2
}
