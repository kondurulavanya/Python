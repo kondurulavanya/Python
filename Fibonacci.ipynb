{
 "cells": [
  {
   "cell_type": "code",
   "execution_count": 2,
   "metadata": {},
   "outputs": [
    {
     "name": "stdout",
     "output_type": "stream",
     "text": [
      "Enter Nth number for Fibonacci seq: 10\n",
      "[1, 1, 2, 3, 5, 8, 13, 21, 34, 55]\n"
     ]
    }
   ],
   "source": [
    "#code to find the Nth Fibonacci sequence\n",
    "    \n",
    "def main():\n",
    "    fibo=[]\n",
    "    for num in range(int(input(\"Enter Nth number for Fibonacci seq: \"))):\n",
    "        if num==0 or num==1:\n",
    "         fibo.append(1)\n",
    "        else:\n",
    "            value=fibo[num-1]+fibo[num-2]\n",
    "            fibo.append(value)\n",
    "    print(fibo)\n",
    "    \n",
    "if __name__==\"__main__\":\n",
    "    main()"
   ]
  },
  {
   "cell_type": "code",
   "execution_count": null,
   "metadata": {},
   "outputs": [],
   "source": []
  }
 ],
 "metadata": {
  "kernelspec": {
   "display_name": "Python 3",
   "language": "python",
   "name": "python3"
  },
  "language_info": {
   "codemirror_mode": {
    "name": "ipython",
    "version": 3
   },
   "file_extension": ".py",
   "mimetype": "text/x-python",
   "name": "python",
   "nbconvert_exporter": "python",
   "pygments_lexer": "ipython3",
   "version": "3.7.3"
  }
 },
 "nbformat": 4,
 "nbformat_minor": 2
}
