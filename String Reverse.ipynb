{
 "cells": [
  {
   "cell_type": "code",
   "execution_count": 4,
   "metadata": {},
   "outputs": [
    {
     "name": "stdout",
     "output_type": "stream",
     "text": [
      "string.a.is.this\n"
     ]
    }
   ],
   "source": [
    "#Reverse the string\n",
    "str=\"this.is.a.string\"\n",
    "\n",
    "finalstr=[]\n",
    "\n",
    "pos=str.count('.') #number to iterate the loop i.e no# of words in a string separated by '.'\n",
    "\n",
    "for num in range(pos+1):\n",
    "    finalstr.append(str[str.rfind('.')+1:])\n",
    "    str=str[:str.rfind('.')]\n",
    "    if num==range(pos):\n",
    "        finalstr.append(str)\n",
    "        \n",
    "print('.'.join(finalstr))"
   ]
  },
  {
   "cell_type": "code",
   "execution_count": null,
   "metadata": {},
   "outputs": [],
   "source": []
  }
 ],
 "metadata": {
  "kernelspec": {
   "display_name": "Python 3",
   "language": "python",
   "name": "python3"
  },
  "language_info": {
   "codemirror_mode": {
    "name": "ipython",
    "version": 3
   },
   "file_extension": ".py",
   "mimetype": "text/x-python",
   "name": "python",
   "nbconvert_exporter": "python",
   "pygments_lexer": "ipython3",
   "version": "3.7.3"
  }
 },
 "nbformat": 4,
 "nbformat_minor": 2
}
